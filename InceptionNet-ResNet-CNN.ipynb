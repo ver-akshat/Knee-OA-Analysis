{
 "cells": [
  {
   "cell_type": "code",
   "execution_count": 1,
   "id": "d47dab19",
   "metadata": {
    "_cell_guid": "b1076dfc-b9ad-4769-8c92-a6c4dae69d19",
    "_uuid": "8f2839f25d086af736a60e9eeb907d3b93b6e0e5",
    "execution": {
     "iopub.execute_input": "2023-05-07T11:15:28.002742Z",
     "iopub.status.busy": "2023-05-07T11:15:28.002362Z",
     "iopub.status.idle": "2023-05-07T11:15:30.386419Z",
     "shell.execute_reply": "2023-05-07T11:15:30.385285Z"
    },
    "papermill": {
     "duration": 2.394767,
     "end_time": "2023-05-07T11:15:30.388648",
     "exception": false,
     "start_time": "2023-05-07T11:15:27.993881",
     "status": "completed"
    },
    "tags": []
   },
   "outputs": [
    {
     "name": "stdout",
     "output_type": "stream",
     "text": [
      "/kaggle/input\n",
      "/kaggle/input/knee-osteoarthritis-dataset-with-severity\n",
      "/kaggle/input/knee-osteoarthritis-dataset-with-severity/auto_test\n",
      "/kaggle/input/knee-osteoarthritis-dataset-with-severity/auto_test/2\n",
      "/kaggle/input/knee-osteoarthritis-dataset-with-severity/auto_test/0\n",
      "/kaggle/input/knee-osteoarthritis-dataset-with-severity/auto_test/3\n",
      "/kaggle/input/knee-osteoarthritis-dataset-with-severity/auto_test/1\n",
      "/kaggle/input/knee-osteoarthritis-dataset-with-severity/auto_test/4\n",
      "/kaggle/input/knee-osteoarthritis-dataset-with-severity/val\n",
      "/kaggle/input/knee-osteoarthritis-dataset-with-severity/val/2\n",
      "/kaggle/input/knee-osteoarthritis-dataset-with-severity/val/0\n",
      "/kaggle/input/knee-osteoarthritis-dataset-with-severity/val/3\n",
      "/kaggle/input/knee-osteoarthritis-dataset-with-severity/val/1\n",
      "/kaggle/input/knee-osteoarthritis-dataset-with-severity/val/4\n",
      "/kaggle/input/knee-osteoarthritis-dataset-with-severity/test\n",
      "/kaggle/input/knee-osteoarthritis-dataset-with-severity/test/2\n",
      "/kaggle/input/knee-osteoarthritis-dataset-with-severity/test/0\n",
      "/kaggle/input/knee-osteoarthritis-dataset-with-severity/test/3\n",
      "/kaggle/input/knee-osteoarthritis-dataset-with-severity/test/1\n",
      "/kaggle/input/knee-osteoarthritis-dataset-with-severity/test/4\n",
      "/kaggle/input/knee-osteoarthritis-dataset-with-severity/train\n",
      "/kaggle/input/knee-osteoarthritis-dataset-with-severity/train/2\n",
      "/kaggle/input/knee-osteoarthritis-dataset-with-severity/train/0\n",
      "/kaggle/input/knee-osteoarthritis-dataset-with-severity/train/3\n",
      "/kaggle/input/knee-osteoarthritis-dataset-with-severity/train/1\n",
      "/kaggle/input/knee-osteoarthritis-dataset-with-severity/train/4\n"
     ]
    }
   ],
   "source": [
    "# This Python 3 environment comes with many helpful analytics libraries installed\n",
    "# It is defined by the kaggle/python Docker image: https://github.com/kaggle/docker-python\n",
    "# For example, here's several helpful packages to load\n",
    "\n",
    "import numpy as np # linear algebra\n",
    "import pandas as pd # data processing, CSV file I/O (e.g. pd.read_csv)\n",
    "\n",
    "# Input data files are available in the read-only \"../input/\" directory\n",
    "# For example, running this (by clicking run or pressing Shift+Enter) will list all files under the input directory\n",
    "\n",
    "import os\n",
    "for dirname, _, filenames in os.walk('/kaggle/input'):\n",
    "    print(dirname)\n",
    "\n",
    "# You can write up to 20GB to the current directory (/kaggle/working/) that gets preserved as output when you create a version using \"Save & Run All\" \n",
    "# You can also write temporary files to /kaggle/temp/, but they won't be saved outside of the current session"
   ]
  },
  {
   "cell_type": "markdown",
   "id": "4f599f5f",
   "metadata": {
    "papermill": {
     "duration": 0.005238,
     "end_time": "2023-05-07T11:15:30.399705",
     "exception": false,
     "start_time": "2023-05-07T11:15:30.394467",
     "status": "completed"
    },
    "tags": []
   },
   "source": [
    "### Performance of other models is not so good so trying InceptionNet this time to see if performance is better"
   ]
  },
  {
   "cell_type": "code",
   "execution_count": 2,
   "id": "43a95a8f",
   "metadata": {
    "execution": {
     "iopub.execute_input": "2023-05-07T11:15:30.412063Z",
     "iopub.status.busy": "2023-05-07T11:15:30.411430Z",
     "iopub.status.idle": "2023-05-07T11:15:38.900596Z",
     "shell.execute_reply": "2023-05-07T11:15:38.899599Z"
    },
    "papermill": {
     "duration": 8.497791,
     "end_time": "2023-05-07T11:15:38.902913",
     "exception": false,
     "start_time": "2023-05-07T11:15:30.405122",
     "status": "completed"
    },
    "tags": []
   },
   "outputs": [
    {
     "name": "stderr",
     "output_type": "stream",
     "text": [
      "/opt/conda/lib/python3.10/site-packages/scipy/__init__.py:146: UserWarning: A NumPy version >=1.16.5 and <1.23.0 is required for this version of SciPy (detected version 1.23.5\n",
      "  warnings.warn(f\"A NumPy version >={np_minversion} and <{np_maxversion}\"\n"
     ]
    }
   ],
   "source": [
    "# imports\n",
    "import timeit\n",
    "import tensorflow as tf\n",
    "import matplotlib.pyplot as plt\n",
    "import seaborn as sns\n",
    "from sklearn.metrics import classification_report,accuracy_score,confusion_matrix"
   ]
  },
  {
   "cell_type": "code",
   "execution_count": 3,
   "id": "ba20423f",
   "metadata": {
    "execution": {
     "iopub.execute_input": "2023-05-07T11:15:38.917752Z",
     "iopub.status.busy": "2023-05-07T11:15:38.915971Z",
     "iopub.status.idle": "2023-05-07T11:15:38.923126Z",
     "shell.execute_reply": "2023-05-07T11:15:38.922298Z"
    },
    "papermill": {
     "duration": 0.015976,
     "end_time": "2023-05-07T11:15:38.925226",
     "exception": false,
     "start_time": "2023-05-07T11:15:38.909250",
     "status": "completed"
    },
    "tags": []
   },
   "outputs": [],
   "source": [
    "# Load data\n",
    "base_dir=\"/kaggle/input/knee-osteoarthritis-dataset-with-severity/\"\n",
    "train_path=os.path.join(base_dir,'train')\n",
    "test_path=os.path.join(base_dir,'test')\n",
    "valid_path=os.path.join(base_dir,'val')"
   ]
  },
  {
   "cell_type": "markdown",
   "id": "c83fdb48",
   "metadata": {
    "papermill": {
     "duration": 0.005524,
     "end_time": "2023-05-07T11:15:38.936378",
     "exception": false,
     "start_time": "2023-05-07T11:15:38.930854",
     "status": "completed"
    },
    "tags": []
   },
   "source": [
    "### Using InceptionNet this time to do fine tuning"
   ]
  },
  {
   "cell_type": "code",
   "execution_count": 4,
   "id": "f8bc1ea7",
   "metadata": {
    "execution": {
     "iopub.execute_input": "2023-05-07T11:15:38.949972Z",
     "iopub.status.busy": "2023-05-07T11:15:38.948996Z",
     "iopub.status.idle": "2023-05-07T11:15:38.954117Z",
     "shell.execute_reply": "2023-05-07T11:15:38.953342Z"
    },
    "papermill": {
     "duration": 0.013558,
     "end_time": "2023-05-07T11:15:38.955889",
     "exception": false,
     "start_time": "2023-05-07T11:15:38.942331",
     "status": "completed"
    },
    "tags": []
   },
   "outputs": [],
   "source": [
    "# important parameters for training model\n",
    "model_name=\"InceptionResNetV2\"\n",
    "class_names=['Healthy','Doubtful','Minimal','Moderate','Severe']\n",
    "target_size=(224,224)\n",
    "epochs=100\n",
    "batch_size=256\n",
    "img_shape=(224,224,3)"
   ]
  },
  {
   "cell_type": "code",
   "execution_count": 5,
   "id": "e4ac52c5",
   "metadata": {
    "execution": {
     "iopub.execute_input": "2023-05-07T11:15:38.967795Z",
     "iopub.status.busy": "2023-05-07T11:15:38.967557Z",
     "iopub.status.idle": "2023-05-07T11:15:38.971447Z",
     "shell.execute_reply": "2023-05-07T11:15:38.970653Z"
    },
    "papermill": {
     "duration": 0.011608,
     "end_time": "2023-05-07T11:15:38.973169",
     "exception": false,
     "start_time": "2023-05-07T11:15:38.961561",
     "status": "completed"
    },
    "tags": []
   },
   "outputs": [],
   "source": [
    "saved_model_path=os.path.join('models',f'model_{model_name}_ft.hdf5')"
   ]
  },
  {
   "cell_type": "markdown",
   "id": "72cd0a44",
   "metadata": {
    "papermill": {
     "duration": 0.005075,
     "end_time": "2023-05-07T11:15:38.983745",
     "exception": false,
     "start_time": "2023-05-07T11:15:38.978670",
     "status": "completed"
    },
    "tags": []
   },
   "source": [
    "### Generating augmented and non augmented data generators"
   ]
  },
  {
   "cell_type": "code",
   "execution_count": 6,
   "id": "407871a7",
   "metadata": {
    "execution": {
     "iopub.execute_input": "2023-05-07T11:15:38.995413Z",
     "iopub.status.busy": "2023-05-07T11:15:38.995169Z",
     "iopub.status.idle": "2023-05-07T11:15:39.000678Z",
     "shell.execute_reply": "2023-05-07T11:15:38.999807Z"
    },
    "papermill": {
     "duration": 0.01338,
     "end_time": "2023-05-07T11:15:39.002525",
     "exception": false,
     "start_time": "2023-05-07T11:15:38.989145",
     "status": "completed"
    },
    "tags": []
   },
   "outputs": [],
   "source": [
    "\"\"\"\n",
    "This function used to generate augmented images for the training data\n",
    "\"\"\"\n",
    "def return_Augmented_Images():\n",
    "    return tf.keras.preprocessing.image.ImageDataGenerator(\n",
    "    preprocessing_function=tf.keras.applications.resnet50.preprocess_input,\n",
    "    horizontal_flip=True,\n",
    "    brightness_range=[0.4,0.8],\n",
    "    width_shift_range=[-50,0,50,30,-30],\n",
    "    zoom_range=0.1,\n",
    "    fill_mode=\"nearest\",\n",
    "    )\n",
    "\n",
    "\n",
    "\"\"\"\n",
    "This function used to generate augmented images for the training data\n",
    "\"\"\"\n",
    "def return_no_Augmentation_Images():\n",
    "    return tf.keras.preprocessing.image.ImageDataGenerator(\n",
    "        preprocessing_function=tf.keras.applications.resnet50.preprocess_input,)"
   ]
  },
  {
   "cell_type": "code",
   "execution_count": 7,
   "id": "566a5da3",
   "metadata": {
    "execution": {
     "iopub.execute_input": "2023-05-07T11:15:39.014265Z",
     "iopub.status.busy": "2023-05-07T11:15:39.014015Z",
     "iopub.status.idle": "2023-05-07T11:15:39.017880Z",
     "shell.execute_reply": "2023-05-07T11:15:39.017020Z"
    },
    "papermill": {
     "duration": 0.011786,
     "end_time": "2023-05-07T11:15:39.019652",
     "exception": false,
     "start_time": "2023-05-07T11:15:39.007866",
     "status": "completed"
    },
    "tags": []
   },
   "outputs": [],
   "source": [
    "aug_datagen=return_Augmented_Images()\n",
    "no_aug_datagen=return_no_Augmentation_Images()"
   ]
  },
  {
   "cell_type": "markdown",
   "id": "73cbea91",
   "metadata": {
    "papermill": {
     "duration": 0.005068,
     "end_time": "2023-05-07T11:15:39.030215",
     "exception": false,
     "start_time": "2023-05-07T11:15:39.025147",
     "status": "completed"
    },
    "tags": []
   },
   "source": [
    "### Training and validation data"
   ]
  },
  {
   "cell_type": "code",
   "execution_count": 8,
   "id": "b70d4a52",
   "metadata": {
    "execution": {
     "iopub.execute_input": "2023-05-07T11:15:39.042627Z",
     "iopub.status.busy": "2023-05-07T11:15:39.041902Z",
     "iopub.status.idle": "2023-05-07T11:15:39.768238Z",
     "shell.execute_reply": "2023-05-07T11:15:39.767374Z"
    },
    "papermill": {
     "duration": 0.734607,
     "end_time": "2023-05-07T11:15:39.770225",
     "exception": false,
     "start_time": "2023-05-07T11:15:39.035618",
     "status": "completed"
    },
    "tags": []
   },
   "outputs": [
    {
     "name": "stdout",
     "output_type": "stream",
     "text": [
      "Found 5778 images belonging to 5 classes.\n",
      "Found 826 images belonging to 5 classes.\n"
     ]
    }
   ],
   "source": [
    "train_generator=aug_datagen.flow_from_directory(train_path,class_mode=\"categorical\",target_size=target_size,shuffle=True)\n",
    "valid_generator=no_aug_datagen.flow_from_directory(valid_path,class_mode=\"categorical\",target_size=target_size,shuffle=False)"
   ]
  },
  {
   "cell_type": "code",
   "execution_count": 9,
   "id": "d495ca42",
   "metadata": {
    "execution": {
     "iopub.execute_input": "2023-05-07T11:15:39.783218Z",
     "iopub.status.busy": "2023-05-07T11:15:39.782353Z",
     "iopub.status.idle": "2023-05-07T11:15:39.786834Z",
     "shell.execute_reply": "2023-05-07T11:15:39.786059Z"
    },
    "papermill": {
     "duration": 0.012564,
     "end_time": "2023-05-07T11:15:39.788504",
     "exception": false,
     "start_time": "2023-05-07T11:15:39.775940",
     "status": "completed"
    },
    "tags": []
   },
   "outputs": [],
   "source": [
    "y_train=train_generator.labels\n",
    "y_val=valid_generator.labels"
   ]
  },
  {
   "cell_type": "markdown",
   "id": "c56a41da",
   "metadata": {
    "papermill": {
     "duration": 0.005236,
     "end_time": "2023-05-07T11:15:39.799149",
     "exception": false,
     "start_time": "2023-05-07T11:15:39.793913",
     "status": "completed"
    },
    "tags": []
   },
   "source": [
    "### To handle class imbalance, finding class weights to use them later"
   ]
  },
  {
   "cell_type": "code",
   "execution_count": 10,
   "id": "8cd63723",
   "metadata": {
    "execution": {
     "iopub.execute_input": "2023-05-07T11:15:39.812590Z",
     "iopub.status.busy": "2023-05-07T11:15:39.811206Z",
     "iopub.status.idle": "2023-05-07T11:15:39.824772Z",
     "shell.execute_reply": "2023-05-07T11:15:39.823523Z"
    },
    "papermill": {
     "duration": 0.021936,
     "end_time": "2023-05-07T11:15:39.826689",
     "exception": false,
     "start_time": "2023-05-07T11:15:39.804753",
     "status": "completed"
    },
    "tags": []
   },
   "outputs": [
    {
     "name": "stdout",
     "output_type": "stream",
     "text": [
      "Train data: {0: 2286, 1: 1046, 2: 1516, 3: 757, 4: 173}\n",
      "{0: 0.5055118110236221, 1: 1.1047801147227534, 2: 0.7622691292875989, 3: 1.5265521796565389, 4: 6.679768786127168}\n"
     ]
    }
   ],
   "source": [
    "from sklearn.utils.class_weight import compute_class_weight\n",
    "unique,counts=np.unique(y_train,return_counts=True)\n",
    "print(\"Train data:\",dict(zip(unique,counts)))\n",
    "class_weights=compute_class_weight(class_weight=\"balanced\",classes=np.unique(y_train),y=y_train)\n",
    "train_class_weights=dict(enumerate(class_weights))\n",
    "print(train_class_weights)"
   ]
  },
  {
   "cell_type": "markdown",
   "id": "b23171f2",
   "metadata": {
    "papermill": {
     "duration": 0.005422,
     "end_time": "2023-05-07T11:15:39.837672",
     "exception": false,
     "start_time": "2023-05-07T11:15:39.832250",
     "status": "completed"
    },
    "tags": []
   },
   "source": [
    "### Some callbacks"
   ]
  },
  {
   "cell_type": "code",
   "execution_count": 11,
   "id": "552d0328",
   "metadata": {
    "execution": {
     "iopub.execute_input": "2023-05-07T11:15:39.849979Z",
     "iopub.status.busy": "2023-05-07T11:15:39.849382Z",
     "iopub.status.idle": "2023-05-07T11:15:39.854602Z",
     "shell.execute_reply": "2023-05-07T11:15:39.853639Z"
    },
    "papermill": {
     "duration": 0.01326,
     "end_time": "2023-05-07T11:15:39.856487",
     "exception": false,
     "start_time": "2023-05-07T11:15:39.843227",
     "status": "completed"
    },
    "tags": []
   },
   "outputs": [],
   "source": [
    "#train data\n",
    "classes=np.unique(y_train)\n",
    "# using some callbacks\n",
    "early_stopping=tf.keras.callbacks.EarlyStopping(monitor='val_loss',min_delta=0.01,patience=9,restore_best_weights=True)\n",
    "plateau_LR=tf.keras.callbacks.ReduceLROnPlateau(monitor='loss',factor=0.1,min_delta=0.01,min_lr=1e-10,patience=4,mode='auto')"
   ]
  },
  {
   "cell_type": "markdown",
   "id": "3306cce7",
   "metadata": {
    "papermill": {
     "duration": 0.005584,
     "end_time": "2023-05-07T11:15:39.868247",
     "exception": false,
     "start_time": "2023-05-07T11:15:39.862663",
     "status": "completed"
    },
    "tags": []
   },
   "source": [
    "### Using transfer learning approach to use pre trained model (Inception-Net-ResNet) to save training time"
   ]
  },
  {
   "cell_type": "code",
   "execution_count": 12,
   "id": "3a506556",
   "metadata": {
    "execution": {
     "iopub.execute_input": "2023-05-07T11:15:39.880819Z",
     "iopub.status.busy": "2023-05-07T11:15:39.880127Z",
     "iopub.status.idle": "2023-05-07T11:15:50.592516Z",
     "shell.execute_reply": "2023-05-07T11:15:50.591599Z"
    },
    "papermill": {
     "duration": 10.720852,
     "end_time": "2023-05-07T11:15:50.594867",
     "exception": false,
     "start_time": "2023-05-07T11:15:39.874015",
     "status": "completed"
    },
    "tags": []
   },
   "outputs": [
    {
     "name": "stdout",
     "output_type": "stream",
     "text": [
      "Downloading data from https://storage.googleapis.com/tensorflow/keras-applications/inception_resnet_v2/inception_resnet_v2_weights_tf_dim_ordering_tf_kernels_notop.h5\n",
      "219055592/219055592 [==============================] - 1s 0us/step\n"
     ]
    }
   ],
   "source": [
    "# model\n",
    "model=tf.keras.applications.inception_resnet_v2.InceptionResNetV2(input_shape=img_shape,include_top=False,weights=\"imagenet\")"
   ]
  },
  {
   "cell_type": "markdown",
   "id": "25e07393",
   "metadata": {
    "papermill": {
     "duration": 0.006566,
     "end_time": "2023-05-07T11:15:50.608531",
     "exception": false,
     "start_time": "2023-05-07T11:15:50.601965",
     "status": "completed"
    },
    "tags": []
   },
   "source": [
    "### Fine Tuning the model"
   ]
  },
  {
   "cell_type": "code",
   "execution_count": 13,
   "id": "6dc12f5d",
   "metadata": {
    "execution": {
     "iopub.execute_input": "2023-05-07T11:15:50.623734Z",
     "iopub.status.busy": "2023-05-07T11:15:50.623026Z",
     "iopub.status.idle": "2023-05-07T11:15:52.347446Z",
     "shell.execute_reply": "2023-05-07T11:15:52.346536Z"
    },
    "papermill": {
     "duration": 1.734645,
     "end_time": "2023-05-07T11:15:52.349840",
     "exception": false,
     "start_time": "2023-05-07T11:15:50.615195",
     "status": "completed"
    },
    "tags": []
   },
   "outputs": [
    {
     "name": "stdout",
     "output_type": "stream",
     "text": [
      "Model: \"sequential\"\n",
      "_________________________________________________________________\n",
      " Layer (type)                Output Shape              Param #   \n",
      "=================================================================\n",
      " inception_resnet_v2 (Functi  (None, 5, 5, 1536)       54336736  \n",
      " onal)                                                           \n",
      "                                                                 \n",
      " global_average_pooling2d (G  (None, 1536)             0         \n",
      " lobalAveragePooling2D)                                          \n",
      "                                                                 \n",
      " dropout (Dropout)           (None, 1536)              0         \n",
      "                                                                 \n",
      " dense (Dense)               (None, 5)                 7685      \n",
      "                                                                 \n",
      "=================================================================\n",
      "Total params: 54,344,421\n",
      "Trainable params: 54,283,877\n",
      "Non-trainable params: 60,544\n",
      "_________________________________________________________________\n"
     ]
    }
   ],
   "source": [
    "for layer in model.layers:\n",
    "    layer.trainable=True\n",
    "fine_tuned_model=tf.keras.models.Sequential([model,tf.keras.layers.GlobalAveragePooling2D(),tf.keras.layers.Dropout(0.25),\n",
    "                                             tf.keras.layers.Dense(5,activation=\"softmax\")])\n",
    "fine_tuned_model.summary()"
   ]
  },
  {
   "cell_type": "code",
   "execution_count": 14,
   "id": "1c0f1e12",
   "metadata": {
    "execution": {
     "iopub.execute_input": "2023-05-07T11:15:52.380362Z",
     "iopub.status.busy": "2023-05-07T11:15:52.380014Z",
     "iopub.status.idle": "2023-05-07T12:05:58.743776Z",
     "shell.execute_reply": "2023-05-07T12:05:58.742876Z"
    },
    "papermill": {
     "duration": 3006.579921,
     "end_time": "2023-05-07T12:05:58.947093",
     "exception": false,
     "start_time": "2023-05-07T11:15:52.367172",
     "status": "completed"
    },
    "tags": []
   },
   "outputs": [
    {
     "name": "stdout",
     "output_type": "stream",
     "text": [
      "Epoch 1/100\n",
      "181/181 [==============================] - 254s 895ms/step - loss: 1.1918 - accuracy: 0.4247 - val_loss: 2.2743 - val_accuracy: 0.4370 - lr: 0.0010\n",
      "Epoch 2/100\n",
      "181/181 [==============================] - 128s 705ms/step - loss: 0.9444 - accuracy: 0.5294 - val_loss: 9.8635 - val_accuracy: 0.3232 - lr: 0.0010\n",
      "Epoch 3/100\n",
      "181/181 [==============================] - 125s 689ms/step - loss: 0.9006 - accuracy: 0.5440 - val_loss: 1.0129 - val_accuracy: 0.5896 - lr: 0.0010\n",
      "Epoch 4/100\n",
      "181/181 [==============================] - 125s 689ms/step - loss: 0.8104 - accuracy: 0.5867 - val_loss: 1.0340 - val_accuracy: 0.5436 - lr: 0.0010\n",
      "Epoch 5/100\n",
      "181/181 [==============================] - 128s 703ms/step - loss: 0.8033 - accuracy: 0.6006 - val_loss: 0.9698 - val_accuracy: 0.5690 - lr: 0.0010\n",
      "Epoch 6/100\n",
      "181/181 [==============================] - 126s 692ms/step - loss: 0.7510 - accuracy: 0.6222 - val_loss: 1.0378 - val_accuracy: 0.5605 - lr: 0.0010\n",
      "Epoch 7/100\n",
      "181/181 [==============================] - 125s 690ms/step - loss: 0.7356 - accuracy: 0.6113 - val_loss: 1.7406 - val_accuracy: 0.3608 - lr: 0.0010\n",
      "Epoch 8/100\n",
      "181/181 [==============================] - 126s 693ms/step - loss: 0.7312 - accuracy: 0.6170 - val_loss: 1.0849 - val_accuracy: 0.5206 - lr: 0.0010\n",
      "Epoch 9/100\n",
      "181/181 [==============================] - 127s 698ms/step - loss: 0.6853 - accuracy: 0.6343 - val_loss: 1.0297 - val_accuracy: 0.5484 - lr: 0.0010\n",
      "Epoch 10/100\n",
      "181/181 [==============================] - 127s 698ms/step - loss: 0.6832 - accuracy: 0.6426 - val_loss: 0.9716 - val_accuracy: 0.6344 - lr: 0.0010\n",
      "Epoch 11/100\n",
      "181/181 [==============================] - 125s 687ms/step - loss: 0.6862 - accuracy: 0.6366 - val_loss: 1.0165 - val_accuracy: 0.5775 - lr: 0.0010\n",
      "Epoch 12/100\n",
      "181/181 [==============================] - 126s 692ms/step - loss: 0.6593 - accuracy: 0.6497 - val_loss: 0.8648 - val_accuracy: 0.6477 - lr: 0.0010\n",
      "Epoch 13/100\n",
      "181/181 [==============================] - 125s 688ms/step - loss: 0.6619 - accuracy: 0.6540 - val_loss: 1.0118 - val_accuracy: 0.5993 - lr: 0.0010\n",
      "Epoch 14/100\n",
      "181/181 [==============================] - 125s 690ms/step - loss: 0.6353 - accuracy: 0.6630 - val_loss: 0.9139 - val_accuracy: 0.6005 - lr: 0.0010\n",
      "Epoch 15/100\n",
      "181/181 [==============================] - 126s 695ms/step - loss: 0.6637 - accuracy: 0.6551 - val_loss: 1.3940 - val_accuracy: 0.5920 - lr: 0.0010\n",
      "Epoch 16/100\n",
      "181/181 [==============================] - 125s 689ms/step - loss: 0.6366 - accuracy: 0.6608 - val_loss: 1.6030 - val_accuracy: 0.3814 - lr: 0.0010\n",
      "Epoch 17/100\n",
      "181/181 [==============================] - 125s 690ms/step - loss: 0.6137 - accuracy: 0.6758 - val_loss: 1.1075 - val_accuracy: 0.5375 - lr: 0.0010\n",
      "Epoch 18/100\n",
      "181/181 [==============================] - 125s 688ms/step - loss: 0.6178 - accuracy: 0.6743 - val_loss: 0.9612 - val_accuracy: 0.5690 - lr: 0.0010\n",
      "Epoch 19/100\n",
      "181/181 [==============================] - 125s 688ms/step - loss: 0.6058 - accuracy: 0.6793 - val_loss: 1.4795 - val_accuracy: 0.5254 - lr: 0.0010\n",
      "Epoch 20/100\n",
      "181/181 [==============================] - 124s 682ms/step - loss: 0.5715 - accuracy: 0.6867 - val_loss: 1.1653 - val_accuracy: 0.5472 - lr: 0.0010\n",
      "Epoch 21/100\n",
      "181/181 [==============================] - 125s 691ms/step - loss: 0.5693 - accuracy: 0.6952 - val_loss: 1.0057 - val_accuracy: 0.5581 - lr: 0.0010\n",
      "Model InceptionResNetV2 fine tuning executed in 50.11 minutes\n"
     ]
    }
   ],
   "source": [
    "fine_tuned_model.compile(optimizer=\"adam\",loss=\"categorical_crossentropy\",metrics=[\"accuracy\"])\n",
    "start_time=timeit.default_timer()\n",
    "history=fine_tuned_model.fit(train_generator,epochs=epochs,batch_size=batch_size,\n",
    "                             callbacks=[early_stopping,plateau_LR],validation_data=valid_generator,\n",
    "                             class_weight=train_class_weights,verbose=1)\n",
    "stop_time=timeit.default_timer()\n",
    "execution_time=(stop_time-start_time)/60\n",
    "print(f\"Model {model_name} fine tuning executed in {execution_time:.2f} minutes\")"
   ]
  },
  {
   "cell_type": "code",
   "execution_count": 15,
   "id": "c6a7c06f",
   "metadata": {
    "execution": {
     "iopub.execute_input": "2023-05-07T12:05:59.348100Z",
     "iopub.status.busy": "2023-05-07T12:05:59.347394Z",
     "iopub.status.idle": "2023-05-07T12:06:17.545871Z",
     "shell.execute_reply": "2023-05-07T12:06:17.544946Z"
    },
    "papermill": {
     "duration": 18.400485,
     "end_time": "2023-05-07T12:06:17.548091",
     "exception": false,
     "start_time": "2023-05-07T12:05:59.147606",
     "status": "completed"
    },
    "tags": []
   },
   "outputs": [],
   "source": [
    "fine_tuned_model.save(saved_model_path)"
   ]
  },
  {
   "cell_type": "code",
   "execution_count": 16,
   "id": "00e0ee17",
   "metadata": {
    "execution": {
     "iopub.execute_input": "2023-05-07T12:06:17.954970Z",
     "iopub.status.busy": "2023-05-07T12:06:17.953871Z",
     "iopub.status.idle": "2023-05-07T12:06:18.474822Z",
     "shell.execute_reply": "2023-05-07T12:06:18.473893Z"
    },
    "papermill": {
     "duration": 0.730965,
     "end_time": "2023-05-07T12:06:18.476907",
     "exception": false,
     "start_time": "2023-05-07T12:06:17.745942",
     "status": "completed"
    },
    "tags": []
   },
   "outputs": [
    {
     "data": {
      "image/png": "[encoded data removed]",
      "text/plain": [
       "<Figure size 640x480 with 2 Axes>"
      ]
     },
     "metadata": {},
     "output_type": "display_data"
    }
   ],
   "source": [
    "\"\"\"\n",
    "Function to plot loss vs accuracy for the model trained\n",
    "\"\"\"\n",
    "def plot_loss_accuracy(model, model_name):\n",
    "    fig=plt.figure()\n",
    "    plt.subplot(2,1,1)\n",
    "    plt.plot(model.history.history[\"loss\"])\n",
    "    plt.plot(model.history.history[\"val_loss\"])\n",
    "    plt.title(f\"{model_name} \\n model loss\")\n",
    "    plt.ylabel(\"loss\")\n",
    "    plt.xlabel(\"epoch\")\n",
    "    plt.legend([\"train\",\"valid\"],loc=\"upper right\")\n",
    "    plt.subplot(2,1,2)\n",
    "    plt.plot(model.history.history[\"accuracy\"])\n",
    "    plt.plot(model.history.history[\"val_accuracy\"])\n",
    "    plt.title(\"model accuracy\")\n",
    "    plt.ylabel(\"accuracy\")\n",
    "    plt.xlabel(\"epoch\")\n",
    "    plt.legend([\"train\",\"valid\"],loc=\"lower right\")\n",
    "    plt.tight_layout()\n",
    "    \n",
    "\n",
    "plot_loss_accuracy(fine_tuned_model, f\"{model_name} Fine Tuning\")\n"
   ]
  },
  {
   "cell_type": "code",
   "execution_count": 17,
   "id": "1b8a156a",
   "metadata": {
    "execution": {
     "iopub.execute_input": "2023-05-07T12:06:18.959843Z",
     "iopub.status.busy": "2023-05-07T12:06:18.958781Z",
     "iopub.status.idle": "2023-05-07T12:06:18.965989Z",
     "shell.execute_reply": "2023-05-07T12:06:18.965034Z"
    },
    "papermill": {
     "duration": 0.283686,
     "end_time": "2023-05-07T12:06:18.968034",
     "exception": false,
     "start_time": "2023-05-07T12:06:18.684348",
     "status": "completed"
    },
    "tags": []
   },
   "outputs": [],
   "source": [
    "\"\"\"\n",
    "Function to plot confusion matrix\n",
    "\"\"\"\n",
    "def plot_confusion_matrix(ytrue,ypred,class_names,model_name):\n",
    "    cm=confusion_matrix(y_true=ytrue.labels,y_pred=np.argmax(ypred,axis=1))\n",
    "    cmn=cm.astype(\"float\")/cm.sum(axis=1)[:,np.newaxis]\n",
    "    plt.subplots(figsize=(6,5))\n",
    "    sns.heatmap(cmn,annot=True,fmt=\".2f\",cmap=\"Purples\",xticklabels=class_names,yticklabels=class_names,)\n",
    "    plt.title(f\"Confusion Matrix -{model_name}\")\n",
    "    plt.ylabel(\"Actual\")\n",
    "    plt.xlabel(\"Predicted\")\n",
    "    plt.show(block=False)"
   ]
  },
  {
   "cell_type": "code",
   "execution_count": 18,
   "id": "a1501780",
   "metadata": {
    "execution": {
     "iopub.execute_input": "2023-05-07T12:06:19.377055Z",
     "iopub.status.busy": "2023-05-07T12:06:19.376714Z",
     "iopub.status.idle": "2023-05-07T12:06:24.150578Z",
     "shell.execute_reply": "2023-05-07T12:06:24.146014Z"
    },
    "papermill": {
     "duration": 4.975674,
     "end_time": "2023-05-07T12:06:24.153749",
     "exception": false,
     "start_time": "2023-05-07T12:06:19.178075",
     "status": "completed"
    },
    "tags": []
   },
   "outputs": [
    {
     "name": "stdout",
     "output_type": "stream",
     "text": [
      "26/26 [==============================] - 5s 172ms/step - loss: 0.8648 - accuracy: 0.6477\n",
      "Valid loss: 0.86\n",
      "Valid accuracy: 0.65\n"
     ]
    }
   ],
   "source": [
    "\"\"\"\n",
    "Functions to evaluate and predict the model performance\n",
    "\"\"\"\n",
    "def evaluate_model(data,name, model):\n",
    "    score_model=model.evaluate(data,verbose=1)\n",
    "    print(f\"{name} loss: {score_model[0]:.2f}\")\n",
    "    print(f\"{name} accuracy: {score_model[1]:.2f}\")\n",
    "    \n",
    "def predict_model(data,model):\n",
    "    predict_model=model.predict(data)\n",
    "    return predict_model\n",
    "\n",
    "\n",
    "evaluate_model(valid_generator, \"Valid\", fine_tuned_model)"
   ]
  },
  {
   "cell_type": "code",
   "execution_count": 19,
   "id": "2f518a1a",
   "metadata": {
    "execution": {
     "iopub.execute_input": "2023-05-07T12:06:24.648926Z",
     "iopub.status.busy": "2023-05-07T12:06:24.648579Z",
     "iopub.status.idle": "2023-05-07T12:06:32.415267Z",
     "shell.execute_reply": "2023-05-07T12:06:32.414050Z"
    },
    "papermill": {
     "duration": 7.981187,
     "end_time": "2023-05-07T12:06:32.417251",
     "exception": false,
     "start_time": "2023-05-07T12:06:24.436064",
     "status": "completed"
    },
    "tags": []
   },
   "outputs": [
    {
     "name": "stdout",
     "output_type": "stream",
     "text": [
      "26/26 [==============================] - 8s 178ms/step\n",
      "Accuracy Score - InceptionResNetV2: 0.65\n",
      "              precision    recall  f1-score   support\n",
      "\n",
      "           0       0.67      0.89      0.76       328\n",
      "           1       0.32      0.27      0.30       153\n",
      "           2       0.76      0.44      0.56       212\n",
      "           3       0.77      0.77      0.77       106\n",
      "           4       0.93      0.93      0.93        27\n",
      "\n",
      "    accuracy                           0.65       826\n",
      "   macro avg       0.69      0.66      0.66       826\n",
      "weighted avg       0.65      0.65      0.63       826\n",
      "\n"
     ]
    }
   ],
   "source": [
    "\"\"\"\n",
    "Function to show various metrics\n",
    "\"\"\"\n",
    "def get_metrics(y_test,y_pred,model_name):\n",
    "    acc=accuracy_score(y_test,y_pred)\n",
    "    print(f\"Accuracy Score - {model_name}: {acc:.2f}\")\n",
    "    print(classification_report(y_test, y_pred))\n",
    "    \n",
    "predict_model_ft = predict_model(valid_generator, fine_tuned_model)\n",
    "get_metrics(valid_generator.labels,y_pred=np.argmax(predict_model_ft, axis=1),model_name=model_name)\n"
   ]
  },
  {
   "cell_type": "code",
   "execution_count": 20,
   "id": "8044ce2a",
   "metadata": {
    "execution": {
     "iopub.execute_input": "2023-05-07T12:06:32.834476Z",
     "iopub.status.busy": "2023-05-07T12:06:32.834122Z",
     "iopub.status.idle": "2023-05-07T12:06:33.162173Z",
     "shell.execute_reply": "2023-05-07T12:06:33.161343Z"
    },
    "papermill": {
     "duration": 0.542493,
     "end_time": "2023-05-07T12:06:33.164402",
     "exception": false,
     "start_time": "2023-05-07T12:06:32.621909",
     "status": "completed"
    },
    "tags": []
   },
   "outputs": [
    {
     "data": {
      "image/png": "[encoded data removed]",
      "text/plain": [
       "<Figure size 600x500 with 2 Axes>"
      ]
     },
     "metadata": {},
     "output_type": "display_data"
    }
   ],
   "source": [
    "plot_confusion_matrix(valid_generator, predict_model_ft, class_names, f\"{model_name} Fine Tuning\")"
   ]
  },
  {
   "cell_type": "markdown",
   "id": "c8a8cc9e",
   "metadata": {
    "papermill": {
     "duration": 0.246346,
     "end_time": "2023-05-07T12:06:33.612709",
     "exception": false,
     "start_time": "2023-05-07T12:06:33.366363",
     "status": "completed"
    },
    "tags": []
   },
   "source": []
  },
  {
   "cell_type": "code",
   "execution_count": null,
   "id": "3da59981",
   "metadata": {
    "papermill": {
     "duration": 0.203958,
     "end_time": "2023-05-07T12:06:34.016347",
     "exception": false,
     "start_time": "2023-05-07T12:06:33.812389",
     "status": "completed"
    },
    "tags": []
   },
   "outputs": [],
   "source": []
  }
 ],
 "metadata": {
  "kernelspec": {
   "display_name": "Python 3",
   "language": "python",
   "name": "python3"
  },
  "language_info": {
   "codemirror_mode": {
    "name": "ipython",
    "version": 3
   },
   "file_extension": ".py",
   "mimetype": "text/x-python",
   "name": "python",
   "nbconvert_exporter": "python",
   "pygments_lexer": "ipython3",
   "version": "3.10.10"
  },
  "papermill": {
   "default_parameters": {},
   "duration": 3080.238425,
   "end_time": "2023-05-07T12:06:38.202066",
   "environment_variables": {},
   "exception": null,
   "input_path": "__notebook__.ipynb",
   "output_path": "__notebook__.ipynb",
   "parameters": {},
   "start_time": "2023-05-07T11:15:17.963641",
   "version": "2.4.0"
  }
 },
 "nbformat": 4,
 "nbformat_minor": 5
}
